{
 "nbformat": 4,
 "nbformat_minor": 0,
 "metadata": {
  "colab": {
   "provenance": []
  },
  "kernelspec": {
   "name": "python3",
   "display_name": "Python 3"
  },
  "language_info": {
   "name": "python"
  }
 },
 "cells": [
  {
   "cell_type": "markdown",
   "source": [
    "### Clone the Github repository"
   ],
   "metadata": {
    "id": "S-bflJZTMmie"
   }
  },
  {
   "cell_type": "code",
   "execution_count": null,
   "metadata": {
    "colab": {
     "base_uri": "https://localhost:8080/"
    },
    "id": "XpW0TJ34Lm_h",
    "outputId": "27f5bf49-e6c5-447a-8c88-c31a5d7d3399"
   },
   "outputs": [],
   "source": [
    "!git clone https://github.com/MehulKhanna/PokeGrinder.git\n",
    "%cd PokeGrinder"
   ]
  },
  {
   "cell_type": "markdown",
   "source": [
    "### Download Captcha Solver"
   ],
   "metadata": {
    "id": "hlTGd7ELTVx-"
   }
  },
  {
   "cell_type": "code",
   "source": [
    "!wget -P /content/PokeGrinder/assets/ https://github.com/MehulKhanna/PokeGrinder/releases/download/v2.5/Solver100k.pt"
   ],
   "metadata": {
    "colab": {
     "base_uri": "https://localhost:8080/"
    },
    "id": "6yIlm-QOOQk6",
    "outputId": "d3934096-f129-4e89-f61f-300fd3e413ae"
   },
   "execution_count": null,
   "outputs": []
  },
  {
   "cell_type": "markdown",
   "source": [
    "### Install discord.py-self"
   ],
   "metadata": {
    "id": "eP1cdqmzM6E3"
   }
  },
  {
   "cell_type": "code",
   "source": [
    "%pip install git+https://github.com/dolfies/discord.py-self"
   ],
   "metadata": {
    "colab": {
     "base_uri": "https://localhost:8080/"
    },
    "id": "kwA_J_7NMwI4",
    "outputId": "75611ce4-901d-4512-c2ba-49342fdb5d81"
   },
   "execution_count": null,
   "outputs": []
  },
  {
   "cell_type": "markdown",
   "source": [
    "### Install requirements"
   ],
   "metadata": {
    "id": "sLd8UlBRM9iJ"
   }
  },
  {
   "cell_type": "code",
   "source": [
    "!python -m pip install -r requirements.txt"
   ],
   "metadata": {
    "colab": {
     "base_uri": "https://localhost:8080/"
    },
    "id": "vSlUM2O7M1nV",
    "outputId": "3491c2a5-3c48-4cb3-94e0-bfe6668f3713"
   },
   "execution_count": null,
   "outputs": []
  },
  {
   "cell_type": "markdown",
   "source": [
    "# Now edit your config\n",
    "Please increase HuntingCooldown, FishingCooldown and RetryCooldown by a few hundred milliseconds to avoid \"Please wait\" messages.\n",
    "\n",
    "For example :-\n",
    "Change \"HuntingCooldown\": 8.4 to \"HuntingCooldown\": 8.9"
   ],
   "metadata": {
    "id": "mAI5SVRPNrNy"
   }
  },
  {
   "cell_type": "code",
   "source": [
    "!python main.py"
   ],
   "metadata": {
    "colab": {
     "base_uri": "https://localhost:8080/"
    },
    "id": "IYQ6coDDNo0Z",
    "outputId": "06e3b533-d0ee-4cb0-8c72-4f1614f45546"
   },
   "execution_count": null,
   "outputs": []
  }
 ]
}
