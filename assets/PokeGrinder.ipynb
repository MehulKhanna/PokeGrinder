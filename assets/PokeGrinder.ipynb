{
 "cells": [
  {
   "cell_type": "markdown",
   "metadata": {
    "id": "S-bflJZTMmie"
   },
   "source": [
    "### Clone the Github repository"
   ]
  },
  {
   "cell_type": "code",
   "execution_count": null,
   "metadata": {
    "colab": {
     "base_uri": "https://localhost:8080/"
    },
    "id": "XpW0TJ34Lm_h",
    "outputId": "27f5bf49-e6c5-447a-8c88-c31a5d7d3399"
   },
   "outputs": [],
   "source": [
    "!git clone https://github.com/MehulKhanna/PokeGrinder.git\n",
    "%cd PokeGrinder"
   ]
  },
  {
   "cell_type": "markdown",
   "metadata": {
    "id": "hlTGd7ELTVx-"
   },
   "source": [
    "### Download Captcha Solver"
   ]
  },
  {
   "cell_type": "code",
   "execution_count": null,
   "metadata": {
    "colab": {
     "base_uri": "https://localhost:8080/"
    },
    "id": "6yIlm-QOOQk6",
    "outputId": "d3934096-f129-4e89-f61f-300fd3e413ae"
   },
   "outputs": [],
   "source": [
    "!wget -P /content/PokeGrinder/assets/ https://github.com/MehulKhanna/PokeGrinder/releases/download/v2.5/Solver100k.pt"
   ]
  },
  {
   "cell_type": "markdown",
   "metadata": {
    "id": "sLd8UlBRM9iJ"
   },
   "source": [
    "### Install requirements"
   ]
  },
  {
   "cell_type": "code",
   "execution_count": null,
   "metadata": {
    "colab": {
     "base_uri": "https://localhost:8080/"
    },
    "id": "vSlUM2O7M1nV",
    "outputId": "3491c2a5-3c48-4cb3-94e0-bfe6668f3713"
   },
   "outputs": [],
   "source": [
    "!python -m pip install -r requirements.txt"
   ]
  },
  {
   "cell_type": "markdown",
   "metadata": {},
   "source": [
    "# Edit config"
   ]
  },
  {
   "cell_type": "code",
   "execution_count": null,
   "metadata": {},
   "outputs": [],
   "source": [
    "import json\n",
    "#edit config here \n",
    "#use \"True\" and \"False\" here not \"true\" or \"false\"\n",
    "config = {\n",
    "  \"ClearConsole\": True,\n",
    "  \"CaptchaSolver\": True,\n",
    "  \"LoggingInterval\": 10,\n",
    "  \"SuspicionAvoidance\": 250,\n",
    "  \"\": {\n",
    "    \"HuntingChannel\": 0,\n",
    "    \"FishingChannel\": 0,\n",
    "    \"Balls\": {\n",
    "      \"Common\": \"pb\",\n",
    "      \"Uncommon\": \"pb\",\n",
    "      \"Rare\": \"gb\",\n",
    "      \"Super Rare\": \"ub\",\n",
    "      \"Legendary\": \"mb\",\n",
    "      \"Shiny\": \"mb\",\n",
    "      \"Shiny Event\": \"mb\",\n",
    "      \"Shiny Full-odds\": \"prb\"\n",
    "    },\n",
    "    \"FishBalls\": {\n",
    "      \"Common\": \"pb\",\n",
    "      \"Uncommon\": \"gb\",\n",
    "      \"Rare\": \"ub\",\n",
    "      \"Super Rare\": \"ub\",\n",
    "      \"Legendary\": \"db\",\n",
    "      \"Shiny\": \"mb\",\n",
    "      \"Golden\": \"mb\"\n",
    "    },\n",
    "    \"AutoBuy\": {\n",
    "      \"pb\": 100,\n",
    "      \"gb\": 50,\n",
    "      \"ub\": 5,\n",
    "      \"mb\": 1\n",
    "    },\n",
    "    \"AutoRDCap\": 69,\n",
    "    \"RetryCooldown\": 1,\n",
    "    \"HuntingCooldown\": {\n",
    "      \"min\": 8,\n",
    "      \"max\": 10\n",
    "    },\n",
    "    \"FishingCooldown\": 22.4,\n",
    "    \"CaptchaRetries\": 3\n",
    "  },\n",
    "  \"\": {\n",
    "    \"HuntingChannel\": 0,\n",
    "    \"FishingChannel\": 0,\n",
    "    \"Balls\": {\n",
    "      \"Common\": \"pb\",\n",
    "      \"Uncommon\": \"pb\",\n",
    "      \"Rare\": \"gb\",\n",
    "      \"Super Rare\": \"ub\",\n",
    "      \"Legendary\": \"mb\",\n",
    "      \"Shiny\": \"mb\",\n",
    "      \"Shiny Event\": \"mb\",\n",
    "      \"Shiny Full-odds\": \"prb\"\n",
    "    },\n",
    "    \"FishBalls\": {\n",
    "      \"Common\": \"pb\",\n",
    "      \"Uncommon\": \"gb\",\n",
    "      \"Rare\": \"ub\",\n",
    "      \"Super Rare\": \"ub\",\n",
    "      \"Legendary\": \"db\",\n",
    "      \"Shiny\": \"mb\",\n",
    "      \"Golden\": \"mb\"\n",
    "    },\n",
    "    \"AutoBuy\": {\n",
    "      \"pb\": 50,\n",
    "      \"gb\": 25,\n",
    "      \"ub\": 5,\n",
    "      \"mb\": 1\n",
    "    },\n",
    "    \"AutoRDCap\": 69,\n",
    "    \"RetryCooldown\": 1,\n",
    "    \"HuntingCooldown\": 8.4,\n",
    "    \"FishingCooldown\": 22.4,\n",
    "    \"CaptchaRetries\": 3\n",
    "  }\n",
    "}\n",
    "\n",
    "with open(\"config.json\", \"w\") as f:\n",
    "    json.dump(config, f, indent=4)\n"
   ]
  },
  {
   "cell_type": "markdown",
   "metadata": {
    "collapsed": false
   },
   "source": [
    "# Run PokeGrinder"
   ]
  },
  {
   "cell_type": "code",
   "execution_count": null,
   "metadata": {
    "colab": {
     "base_uri": "https://localhost:8080/"
    },
    "id": "IYQ6coDDNo0Z",
    "outputId": "06e3b533-d0ee-4cb0-8c72-4f1614f45546"
   },
   "outputs": [],
   "source": [
    "!python main.py"
   ]
  }
 ],
 "metadata": {
  "colab": {
   "provenance": []
  },
  "kernelspec": {
   "display_name": "Python 3",
   "name": "python3"
  },
  "language_info": {
   "name": "python"
  }
 },
 "nbformat": 4,
 "nbformat_minor": 0
}
